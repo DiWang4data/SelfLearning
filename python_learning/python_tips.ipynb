{
 "cells": [
  {
   "cell_type": "markdown",
   "metadata": {},
   "source": [
    "# python tips 小结\n",
    "主要总结平常会用到，但是容易忘记的一些方法\n",
    "\n",
    "## 随机数\n",
    "python中产生随机数的主要有两个模块`random`和`np.random`\n",
    "\n",
    "### 指定形状的随机数\n",
    "- `numpy.random.rand(d0, d1, ..., dn)`  \n",
    "Create an array of the given shape and populate it with random samples from a uniform distribution over [0, 1).\n"
   ]
  },
  {
   "cell_type": "code",
   "execution_count": 7,
   "metadata": {
    "ExecuteTime": {
     "end_time": "2019-03-07T06:43:00.467070Z",
     "start_time": "2019-03-07T06:43:00.447923Z"
    }
   },
   "outputs": [
    {
     "name": "stdout",
     "output_type": "stream",
     "text": [
      "shape with one dimension\n",
      "[0.26982112]\n",
      "shape with two dimension\n",
      "[[0.91369798 0.51984144 0.35704211]\n",
      " [0.3546391  0.92618494 0.81417989]]\n",
      "shape with three dimension\n",
      "[[[0.93997543 0.50565289]\n",
      "  [0.24503162 0.08365107]\n",
      "  [0.90165101 0.2194323 ]]\n",
      "\n",
      " [[0.03847052 0.93185023]\n",
      "  [0.03155963 0.68067247]\n",
      "  [0.07827693 0.13962488]]]\n",
      "(2, 3, 2)\n"
     ]
    }
   ],
   "source": [
    "import numpy as np\n",
    "\n",
    "print(\"shape with one dimension\")\n",
    "print(np.random.rand(1))\n",
    "\n",
    "print(\"shape with two dimension\")\n",
    "print(np.random.rand(2, 3))\n",
    "\n",
    "print(\"shape with three dimension\")\n",
    "x = np.random.rand(2, 3, 2)\n",
    "print(x)\n",
    "print(x.shape)"
   ]
  },
  {
   "cell_type": "markdown",
   "metadata": {
    "ExecuteTime": {
     "end_time": "2019-03-07T06:49:57.597054Z",
     "start_time": "2019-03-07T06:49:57.579404Z"
    }
   },
   "source": [
    "### 指定范围内指定大小的随机数\n",
    "- `numpy.random.randint(low, high=None, size=None, dtype='l')`  \n",
    "Return random integers from low (inclusive) to high (exclusive).\n",
    "Return random integers from the “discrete uniform” distribution of the specified dtype in the “half-open” interval [low, high). If high is None (the default), then results are from [0, low)."
   ]
  },
  {
   "cell_type": "code",
   "execution_count": 13,
   "metadata": {
    "ExecuteTime": {
     "end_time": "2019-03-07T06:58:57.268370Z",
     "start_time": "2019-03-07T06:58:57.259936Z"
    }
   },
   "outputs": [
    {
     "name": "stdout",
     "output_type": "stream",
     "text": [
      "[5 5 7 9 5 4 7 7 9 9 8 8 8 7 5 6 4 9 4 6]\n",
      "[[[4 7]\n",
      "  [9 7]\n",
      "  [7 6]]\n",
      "\n",
      " [[5 4]\n",
      "  [7 5]\n",
      "  [5 9]]]\n"
     ]
    }
   ],
   "source": [
    "# 在范围[4, 10)之间产生20个随机数字\n",
    "print(np.random.randint(low=4, high=10, size=20))\n",
    "\n",
    "# 在范围[4, 10)之间产生个三维大小随机数字\n",
    "print(np.random.randint(low=4, high=10, size=(2, 3, 2)))"
   ]
  },
  {
   "cell_type": "markdown",
   "metadata": {
    "ExecuteTime": {
     "end_time": "2019-03-07T07:13:55.164964Z",
     "start_time": "2019-03-07T07:13:55.152280Z"
    }
   },
   "source": [
    "### 从指定的范围内取出相应的数据\n",
    "- `numpy.random.choice(a, size=None, replace=True, p=None)`\n",
    "Generates a random sample from a given 1-D array"
   ]
  },
  {
   "cell_type": "code",
   "execution_count": 24,
   "metadata": {
    "ExecuteTime": {
     "end_time": "2019-03-07T07:20:08.826060Z",
     "start_time": "2019-03-07T07:20:08.808885Z"
    }
   },
   "outputs": [
    {
     "name": "stdout",
     "output_type": "stream",
     "text": [
      "[5]\n",
      "[[ 9 11  7]\n",
      " [ 9  7  7]]\n",
      "[[7 5 7 5 7]\n",
      " [5 3 7 3 7]\n",
      " [7 7 7 7 5]\n",
      " [7 7 7 7 7]]\n"
     ]
    }
   ],
   "source": [
    "# 从[1, 3, 5]中产生一个随机数字\n",
    "print(np.random.choice([1, 3, 5], size=1))\n",
    "\n",
    "# 从[1, 3, 5, 7, 9, 11]中产生一个二维矩阵数字（有放回）\n",
    "print(np.random.choice([1, 3, 5, 7, 9, 11], size=(2, 3), replace=True))\n",
    "\n",
    "# 从[1, 3, 5, 7]中产生一个二维矩阵数字（有放回）,每个元素取得的概率[0.05, 0.05, 0.1, 0.8]\n",
    "print(np.random.choice([1, 3, 5, 7], size=(4, 5), replace=True, p=[0.05, 0.05, 0.1, 0.8]))"
   ]
  },
  {
   "cell_type": "markdown",
   "metadata": {
    "ExecuteTime": {
     "end_time": "2019-03-07T07:23:39.266683Z",
     "start_time": "2019-03-07T07:23:39.226480Z"
    }
   },
   "source": [
    "### 从指定分布中取出数据\n",
    "\n",
    "|distribution|introduction|\n",
    "|:-|:-|\n",
    "|beta(a, b[, size])\t| Draw samples from a Beta distribution.|\n",
    "|binomial(n, p[, size])\t|Draw samples from a binomial distribution.|\n",
    "|chisquare(df[, size])\t|Draw samples from a chi-square distribution.|\n",
    "|dirichlet(alpha[, size])\t|Draw samples from the Dirichlet distribution.|\n",
    "|exponential([scale, size])\t|Draw samples from an exponential distribution.|\n",
    "|f(dfnum, dfden[, size])\t|Draw samples from an F distribution.|\n",
    "|gamma(shape[, scale, size])\t|Draw samples from a Gamma distribution.|\n",
    "|geometric(p[, size])\t|Draw samples from the geometric distribution.|\n",
    "|gumbel([loc, scale, size])|\tDraw samples from a Gumbel distribution.|\n",
    "|hypergeometric(ngood, nbad, nsample[, size])\t|Draw samples from a Hypergeometric distribution.|\n",
    "|laplace([loc, scale, size])\t|Draw samples from the Laplace or double exponential distribution with specified location (or mean) and scale (decay).|\n",
    "|logistic([loc, scale, size])\t|Draw samples from a logistic distribution.|\n",
    "|lognormal([mean, sigma, size])\t|Draw samples from a log-normal distribution.|\n",
    "|logseries(p[, size])\t|Draw samples from a logarithmic series distribution.|\n",
    "|multinomial(n, pvals[, size])\t|Draw samples from a multinomial distribution.|\n",
    "|multivariate_normal(mean, cov[, size, …)\t| Draw random samples from a multivariate normal distribution.|\n",
    "|negative_binomial(n, p[, size])\t|Draw samples from a negative binomial distribution.|\n",
    "|noncentral_chisquare(df, nonc[, size])\t|Draw samples from a noncentral chi-square distribution.|\n",
    "|noncentral_f(dfnum, dfden, nonc[, size])\t|Draw samples from the noncentral F distribution.|\n",
    "|normal([loc, scale, size])\t|Draw random samples from a normal (Gaussian) distribution.|\n",
    "|pareto(a[, size])\t|Draw samples from a Pareto II or Lomax distribution with specified shape.|\n",
    "|poisson([lam, size])\t|Draw samples from a Poisson distribution.|\n",
    "vpower(a[, size])\t|Draws samples in [0, 1] from a power distribution with positive |xponent a - 1.|\n",
    "|rayleigh([scale, size])\t|Draw samples from a Rayleigh distribution.|\n",
    "|standard_cauchy([size])\t|Draw samples from a standard Cauchy distribution with mode = 0.|\n",
    "|standard_exponential([size])\t|Draw samples from the standard exponential distribution.|\n",
    "|standard_gamma(shape[, size])\t|Draw samples from a standard Gamma distribution.|\n",
    "|standard_normal([size])\t|Draw samples from a standard Normal distribution (mean=0, stdev=1).|\n",
    "|standard_t(df[, size])\t|Draw samples from a standard Student’s t distribution with df degrees of freedom.|\n",
    "|triangular(left, mode, right[, size])\t|Draw samples from the triangular distribution over the interval [left, right].|\n",
    "|uniform([low, high, size])\t|Draw samples from a uniform distribution.|\n",
    "|vonmises(mu, kappa[, size])\t|Draw samples from a von Mises distribution.|\n",
    "|wald(mean, scale[, size])\t|Draw samples from a Wald, or inverse Gaussian, distribution.|\n",
    "|weibull(a[, size])\t|Draw samples from a Weibull distribution.|\n",
    "|zipf(a[, size])\t|Draw samples from a Zipf distribution.|"
   ]
  }
 ],
 "metadata": {
  "kernelspec": {
   "display_name": "Python 3",
   "language": "python",
   "name": "python3"
  },
  "language_info": {
   "codemirror_mode": {
    "name": "ipython",
    "version": 3
   },
   "file_extension": ".py",
   "mimetype": "text/x-python",
   "name": "python",
   "nbconvert_exporter": "python",
   "pygments_lexer": "ipython3",
   "version": "3.6.6"
  },
  "toc": {
   "base_numbering": 1,
   "nav_menu": {},
   "number_sections": true,
   "sideBar": true,
   "skip_h1_title": false,
   "title_cell": "Table of Contents",
   "title_sidebar": "Contents",
   "toc_cell": false,
   "toc_position": {},
   "toc_section_display": true,
   "toc_window_display": false
  },
  "varInspector": {
   "cols": {
    "lenName": 16,
    "lenType": 16,
    "lenVar": 40
   },
   "kernels_config": {
    "python": {
     "delete_cmd_postfix": "",
     "delete_cmd_prefix": "del ",
     "library": "var_list.py",
     "varRefreshCmd": "print(var_dic_list())"
    },
    "r": {
     "delete_cmd_postfix": ") ",
     "delete_cmd_prefix": "rm(",
     "library": "var_list.r",
     "varRefreshCmd": "cat(var_dic_list()) "
    }
   },
   "types_to_exclude": [
    "module",
    "function",
    "builtin_function_or_method",
    "instance",
    "_Feature"
   ],
   "window_display": false
  }
 },
 "nbformat": 4,
 "nbformat_minor": 2
}
