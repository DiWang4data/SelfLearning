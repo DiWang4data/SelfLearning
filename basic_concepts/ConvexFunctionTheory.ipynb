{
 "cells": [
  {
   "cell_type": "markdown",
   "metadata": {},
   "source": [
    "# 多元凸函数的判定\n",
    "\n",
    "本文主要介绍凸函数的定义以及一些相应的判别定理\n",
    "\n",
    "## 1. 定义及引理\n",
    "\n",
    "### 1.1 凸集定义\n",
    "\n",
    "设 $D \\subset R^n$，如果$D$中的任意两点的连线也在$D$内，则称$D$为$R^n$中的凸集，用数学表达式即为，\n",
    "对任意的$P_1,P_2 \\in D$，数$\\lambda \\in (0,1)$，总有  \n",
    "$$\\lambda P_1+(1-\\lambda)P_2 \\in D$$"
   ]
  }
 ],
 "metadata": {
  "kernelspec": {
   "display_name": "Python 3",
   "language": "python",
   "name": "python3"
  },
  "language_info": {
   "codemirror_mode": {
    "name": "ipython",
    "version": 3
   },
   "file_extension": ".py",
   "mimetype": "text/x-python",
   "name": "python",
   "nbconvert_exporter": "python",
   "pygments_lexer": "ipython3",
   "version": "3.6.6"
  }
 },
 "nbformat": 4,
 "nbformat_minor": 2
}
