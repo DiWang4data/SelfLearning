{
 "cells": [
  {
   "cell_type": "markdown",
   "metadata": {},
   "source": [
    "# 梯度\n",
    "\n",
    "## 1. 定义\n",
    "\n",
    "### 1.1 导数\n",
    "\n",
    "设一元函数$f(x)$在$x_0$的某个邻域内有定义，当自变量$x$在$x_0$处有增量$\\Delta x, (x+\\Delta x)$也在邻域内时，函数的增量为$\\Delta y=f(x_0+\\Delta x)-f(x_0)$，如果 $\\displaystyle \\lim_{\\Delta x \\to 0}\\frac {\\Delta x}{\\Delta y}$ 极限存在，则称函数$f(x)$在点$x_0$处可导，并称此极限为函数$f$在点$x$处的导数，记作\n",
    "$$f^{'}(x_0)=\\displaystyle \\lim_{\\Delta x \\to 0}\\frac {\\Delta x}{\\Delta y}=\\displaystyle \\lim_{\\Delta x \\to 0}\\frac {f(x_0+\\Delta x)-f(x_0)}{\\Delta x}$$\n",
    "\n",
    "### 1.2 偏导数\n",
    "\n",
    "在上面的导数定义中，导数即是函数的变化率，对于多元函数来说，变量有多个，此时当沿某一个自变量方向变化时，此时的变化率即是偏导数。  \n",
    "多元函数$f(x,y,\\cdots)$对于变量$x$的偏导数可以表示为\n",
    "$f^{'}_x, f_x, \\partial_xf, D_xf, D_1f, or \\frac{\\partial f}{\\partial x}$\n",
    "\n",
    "### 1.3 方向导数\n",
    "\n"
   ]
  }
 ],
 "metadata": {
  "kernelspec": {
   "display_name": "Python 3",
   "language": "python",
   "name": "python3"
  },
  "language_info": {
   "codemirror_mode": {
    "name": "ipython",
    "version": 3
   },
   "file_extension": ".py",
   "mimetype": "text/x-python",
   "name": "python",
   "nbconvert_exporter": "python",
   "pygments_lexer": "ipython3",
   "version": "3.6.6"
  }
 },
 "nbformat": 4,
 "nbformat_minor": 2
}
