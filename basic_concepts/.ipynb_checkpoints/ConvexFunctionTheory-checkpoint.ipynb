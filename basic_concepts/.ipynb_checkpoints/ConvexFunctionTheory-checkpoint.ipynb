{
 "cells": [
  {
   "cell_type": "markdown",
   "metadata": {},
   "source": [
    "# 多元凸函数的判定\n",
    "\n",
    "本文主要介绍凸函数的定义以及一些相应的判别定理\n",
    "\n",
    "## 1. 定义及引理\n",
    "\n",
    "### 1.1 凸集定义\n",
    "\n",
    "设 $D \\subset R^n$，如果$D$中的任意两点的连线也在$D$内，则称$D$为$R^n$中的凸集，用数学表达式即为，\n",
    "对任意的$P_1,P_2 \\in D$，$\\lambda \\in (0,1)$，总有  \n",
    "$$\\lambda P_1+(1-\\lambda)P_2 \\in D$$\n",
    "\n",
    "### 1.2 凸函数定义\n",
    "\n",
    "设 $ D \\subset R^n$ 为非空凸集，$f$ 为定义在$D$上的函数，若对任意$P_1,P_2 \\in D, \\lambda \\in (0,1)$，总有  \n",
    "$$f(\\lambda P_1 + (1-\\lambda) P_2) \\leq \\lambda f(P_1) + (1-\\lambda)f(P_2)$$\n",
    "则称$f$为$D$上的**凸函数**.\n",
    "\n",
    "反之，若总有  \n",
    "$$f(\\lambda P_1 + (1-\\lambda) P_2) \\geq \\lambda f(P_1) + (1-\\lambda)f(P_2)$$\n",
    "则称$f$为$D$上的**凹函数**.\n",
    "\n",
    "若上面两个不等式改为严格不等式，则称$f$为$D$上的**严格凸函数**和**严格凹函数**.\n",
    "\n",
    "### 1.3 梯度\n",
    "设 $f(P)$ 是定义在$D \\subset R^n$上的多元函数，若在点$P_0(x_1, x_2, \\ldots,x_n)$，对所有自变量的偏导数，则称向量$f_{x_1}(P_0),f_{x_2}(P_0), \\ldots, f_{x_n}(P_0)$为函数$f(P)$在点$P_0$的梯度，记作\n",
    "$$\\nabla f(P_0)=grad\\ f(P_0)=(f_{x_1}(P_0),f_{x_2}(P_0), \\ldots, f_{x_n}(P_0))$$\n",
    "\n",
    "### 1.4 黑赛矩阵(Hessian Matrix)\n",
    "设 $f(P)$ 是定义在$D \\subset R^n$上的多元函数，且在点$P_0(x_1,x_2, \\ldots, x_n)$具有二阶连续偏导数，记作\n",
    "$$H_f(P_0)=\n",
    "\\left[\n",
    " \\begin{matrix}\n",
    "   f_{x_1x_1}(P_0) & f_{x_1x_2}(P_0) & \\cdots & f_{x_1x_n}(P_0)\\\\\n",
    "   f_{x_2x_1}(P_0) & f_{x_2x_2}(P_0) & \\cdots & f_{x_2x_n}(P_0)\\\\\n",
    "   \\vdots & \\vdots & \\ddots & \\vdots \\\\\n",
    "   f_{x_nx_1}(P_0) & f_{x_nx_2}(P_0) & \\cdots & f_{x_nx_n}(P_0)\\\\\n",
    "  \\end{matrix} \n",
    "\\right]\n",
    "$$\n",
    "则称矩阵$H_f(P_0)$为$f(P)$在$P_0$的**黑赛矩阵(Hessian Matrix)**"
   ]
  }
 ],
 "metadata": {
  "kernelspec": {
   "display_name": "Python 3",
   "language": "python",
   "name": "python3"
  },
  "language_info": {
   "codemirror_mode": {
    "name": "ipython",
    "version": 3
   },
   "file_extension": ".py",
   "mimetype": "text/x-python",
   "name": "python",
   "nbconvert_exporter": "python",
   "pygments_lexer": "ipython3",
   "version": "3.6.6"
  }
 },
 "nbformat": 4,
 "nbformat_minor": 2
}
