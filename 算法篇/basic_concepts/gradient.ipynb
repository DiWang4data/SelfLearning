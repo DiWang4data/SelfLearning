{
 "cells": [
  {
   "cell_type": "markdown",
   "metadata": {},
   "source": [
    "#### 梯度反方向函数下降最快\n",
    "\n",
    "## 1. 定义\n",
    "\n",
    "### 1.1 导数\n",
    "\n",
    "设一元函数$f(x)$在$x_0$的某个邻域内有定义，当自变量$x$在$x_0$处有增量$\\Delta x, (x+\\Delta x)$也在邻域内时，函数的增量为$\\Delta y=f(x_0+\\Delta x)-f(x_0)$，如果 $\\displaystyle \\lim_{\\Delta x \\to 0}\\frac {\\Delta x}{\\Delta y}$ 极限存在，则称函数$f(x)$在点$x_0$处可导，并称此极限为函数$f$在点$x$处的导数，记作\n",
    "$$f^{'}(x_0)=\\displaystyle \\lim_{\\Delta x \\to 0}\\frac {\\Delta x}{\\Delta y}=\\displaystyle \\lim_{\\Delta x \\to 0}\\frac {f(x_0+\\Delta x)-f(x_0)}{\\Delta x}$$\n",
    "\n",
    "### 1.2 偏导数\n",
    "\n",
    "在上面的导数定义中，导数即是函数的变化率，对于多元函数来说，变量有多个，此时当沿某一个自变量方向变化时，此时的变化率即是偏导数。  \n",
    "多元函数$f(x,y,\\cdots)$对于变量$x$的偏导数可以表示为\n",
    "$f^{'}_x, f_x, \\partial_xf, D_xf, D_1f, or \\frac{\\partial f}{\\partial x}$\n",
    "\n",
    "### 1.3 方向导数\n",
    "\n",
    "在函数定义域内的点，对某一方向求导得到的导数称之为方向导数，一般为二元函数和三元函数的方向导数。\n",
    "\n",
    "以二元函数为例，  \n",
    "设函数$z=f(x,y)$为在点$P(x,y)$的某一邻域$U(P)$内有定义，自点$P$引射线$l$,字$x$轴的正向到射线$l$的转角为$\\varphi$，点$P(x+\\Delta x, y+\\Delta y) \\in U(P)$为$l$上另一点，若  \n",
    "$\\displaystyle \\lim_{\\rho \\to 0} \\frac {f(x+\\Delta x, y+\\Delta y)-f(x,y)}{\\rho}(\\rho=\\sqrt{(\\Delta x)^2+(\\Delta y)^2})$存在，则称此极限值为$f(x,y)$在点$P$沿方向$l$的方向导数，记作$\\frac {\\partial f}{\\partial l}$，其和偏导导数的关系为  \n",
    "$$\\begin{align*} \\frac {\\partial f}{\\partial l}\n",
    "& = \\frac {\\partial f}{\\partial x}\\cos\\varphi+\\frac {\\partial f}{\\partial y}\\sin\\varphi \\\\ \n",
    "& = (\\frac {\\partial f}{\\partial x}, \\frac {\\partial f}{\\partial y}) \\cdot (\\cos\\varphi, \\sin\\varphi) \\\\ \n",
    "\\end{align*}$$\n",
    "\n",
    "以三元函数为例，  \n",
    "三元函数$u=f(x,y,z)$在点$P(x,y,z)$沿着方向$l$（方向角为$\\alpha, \\beta, \\gamma$）的方向导数的定义为  \n",
    "$$\\frac {\\partial f}{\\partial l}=\\displaystyle \\lim_{\\rho \\to 0} \\frac {f(x+\\Delta x, y+\\Delta y, z+\\Delta z)-f(x,y,z)}{\\rho}(\\rho=\\sqrt{(\\Delta x)^2+(\\Delta y)^2 + (\\Delta z)^2})$$  \n",
    "其和偏导导数的关系为  \n",
    "$$\\begin{align*}\n",
    "\\frac {\\partial f}{\\partial l}\n",
    "&=\\frac {\\partial f}{\\partial x}\\cos\\alpha+\\frac {\\partial f}{\\partial y}\\cos\\beta + \\frac {\\partial f}{\\partial z}\\cos\\gamma \\\\ \n",
    "&= (\\frac {\\partial f}{\\partial x}, \\frac {\\partial f}{\\partial y}, \\frac {\\partial f}{\\partial z}) \\cdot (\\cos\\alpha, \\cos\\beta, \\cos\\gamma) \\\\ \n",
    "\\end{align*}$$\n",
    "\n",
    "### 1.4 梯度\n",
    "\n",
    "梯度是一个向量，表示某一函数在某一固定点处沿此方向变化最快，或者说变化率最大（该值为梯度的模）。\n",
    "设$n$元函数$z=f(x_1, x_2, \\cdots, x_n)$ 在空间$G$内有定义且具有一阶连续偏导数，点$P(x_1, x_2, \\cdots, x_n) \\in G$，则称向量  \n",
    "$$(\\frac {\\partial f}{\\partial x_1}, \\frac {\\partial f}{\\partial x_2}, \\cdots, \\frac {\\partial f}{\\partial x_n})$$\n",
    " 为函数$z=f(x_1, x_2, \\cdots, x_n)$在点$P$的梯度，记作$gradf(x_1, x_2, \\cdots, x_n)$或$\\nabla f(x_1, x_2, \\cdots, x_n)$"
   ]
  },
  {
   "cell_type": "markdown",
   "metadata": {
    "heading_collapsed": true
   },
   "source": [
    "## 2. 证明\n",
    "\n",
    "## 2.1 定义角度证明\n",
    "\n",
    "**证明**:  \n",
    "\n",
    "- 首先证明梯度方向为函数变化最快的方向\n",
    "\n",
    "    梯度是一个向量，表示某一函数在某一固定点处沿此方向变化最快，或者说变化率最大（该值为梯度的模）。\n",
    "    设$n$元函数$z=f(x_1, x_2, \\cdots, x_n)$ 在空间$G$内有定义且具有一阶连续偏导数，点$P(x_1, x_2, \\cdots, x_n) \\in G$，则函数在点$P$沿某一方向$l$（方向角为$\\theta_1, \\theta_2, \\cdots, \\theta_n$）的偏导数为 \n",
    "    $$\\begin{align*} \n",
    "    \\frac {\\partial f}{\\partial l}\n",
    "    &= f_{x_1}\\cos \\theta_1 + f_{x_2}\\cos \\theta_2 + \\cdots + f_{x_n}\\cos \\theta_n \\\\ \n",
    "    &= (f_{x_1}, f_{x_2}, \\cdots, f_{x_n}) \\cdot (\\cos \\theta_1, \\cos \\theta_2, \\cdots \\cos \\theta_n)\\\\ \n",
    "    &= \\vec{f} \\cdot \\vec{\\theta} \\\\ \n",
    "    &= |\\vec{f}| \\cdot |\\vec{\\theta}| \\cdot \\cos(\\vec{f},\\vec{\\theta})\n",
    "    \\end{align*}$$\n",
    "\n",
    "    方向角为$\\theta_1, \\theta_2, \\cdots, \\theta_n$，显然有$|\\vec{\\theta}|=1$  \n",
    "    若$\\frac {\\partial f}{\\partial l}$最大，显然令$\\cos(\\vec{f},\\vec{\\theta})=1$（方向$l$和梯度平行）即可，此时  \n",
    "    $$\\frac {\\partial f}{\\partial l}=|\\vec{f}|$$\n",
    "    此时梯度$\\vec{f}$即为变化最快的方向。\n",
    "\n",
    "- 其次证明梯度的反方向为函数下降最快的方向\n",
    "\n",
    "    接上面证明，方向导数定义有  \n",
    "    $$\\frac {\\partial f}{\\partial l}=\\displaystyle \\lim_{\\rho \\to 0} \\frac {f(x_1+\\Delta x_1, x_2+\\Delta x_2,\\cdots, x_n+\\Delta x_n)-f(x_1,x_2,\\cdots,x_n)}{\\rho}(\\rho=\\sqrt{(\\Delta x_1)^2+(\\Delta x_2)^2 + \\cdots + (\\Delta x_n)^2})$$ \n",
    "    由上式子可以看出，函数下降最快等同于最小化方向导数  \n",
    "\n",
    "    若$\\frac {\\partial f}{\\partial l}$最小，显然令$\\cos(\\vec{f},\\vec{\\theta})=-1$即可，此时  \n",
    "    $$\\frac {\\partial f}{\\partial l}=-|\\vec{f}|$$\n",
    "\n",
    "    即为梯度的反方向是函数下降最快的方向"
   ]
  },
  {
   "cell_type": "markdown",
   "metadata": {},
   "source": [
    "## 2.2 最优化角度证明\n",
    "\n",
    "### 2.2.1 问题描述\n",
    "\n",
    "设$n$元函数$z=f(x_1, x_2, \\cdots, x_n)$ 在空间$G$内有定义且具有一阶连续偏导数，点$P(x_1, x_2, \\cdots, x_n) \\in G$，在点$P$处沿方向$\\vec{\\theta}$移动。  \n",
    "**问题**: 当$\\vec{\\theta}$取什么方向时，函数$z$在点$P$下降最快？\n",
    "\n",
    "**证明**:  \n",
    "对$f(P+ \\vec{\\theta})$在点$P$处进行一阶泰勒展开， \n",
    "$$f(P+\\vec{\\theta}) \\approx f(P) + \\nabla f(P)^T \\cdot \\vec{\\theta}$$\n",
    "转换得如下， \n",
    "$$f(P) - f(P+ \\vec{\\theta}) \\approx -\\nabla f(P)^T \\cdot \\vec{\\theta}$$\n",
    "\n",
    "函数$z$在点$P$下降最快，相当于最大化$f(P) - f(P+\\alpha \\cdot \\vec{\\theta})$，也就是最大化 $-\\nabla f(P)^T \\cdot \\vec{\\theta}$\n",
    "这样问题就转化到*2.1*，即可证明。"
   ]
  }
 ],
 "metadata": {
  "kernelspec": {
   "display_name": "Python 3",
   "language": "python",
   "name": "python3"
  },
  "language_info": {
   "codemirror_mode": {
    "name": "ipython",
    "version": 3
   },
   "file_extension": ".py",
   "mimetype": "text/x-python",
   "name": "python",
   "nbconvert_exporter": "python",
   "pygments_lexer": "ipython3",
   "version": "3.6.8"
  },
  "toc": {
   "base_numbering": 1,
   "nav_menu": {},
   "number_sections": false,
   "sideBar": true,
   "skip_h1_title": false,
   "title_cell": "Table of Contents",
   "title_sidebar": "Contents",
   "toc_cell": false,
   "toc_position": {},
   "toc_section_display": true,
   "toc_window_display": false
  },
  "varInspector": {
   "cols": {
    "lenName": 16,
    "lenType": 16,
    "lenVar": 40
   },
   "kernels_config": {
    "python": {
     "delete_cmd_postfix": "",
     "delete_cmd_prefix": "del ",
     "library": "var_list.py",
     "varRefreshCmd": "print(var_dic_list())"
    },
    "r": {
     "delete_cmd_postfix": ") ",
     "delete_cmd_prefix": "rm(",
     "library": "var_list.r",
     "varRefreshCmd": "cat(var_dic_list()) "
    }
   },
   "types_to_exclude": [
    "module",
    "function",
    "builtin_function_or_method",
    "instance",
    "_Feature"
   ],
   "window_display": false
  }
 },
 "nbformat": 4,
 "nbformat_minor": 2
}
