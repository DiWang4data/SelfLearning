{
 "cells": [
  {
   "cell_type": "markdown",
   "metadata": {},
   "source": [
    "# Mathematical Foundation\n",
    "\n",
    "## Data Representation\n",
    "\n",
    "### 张量介绍\n",
    "\n",
    "一般来说，当前所有机器学习系统使用**张量**(tensor)作为数据结构，它是一个数据容器，包含的数据几乎总是数值类型。矩阵是二维张量，它是矩阵向任意维度的推广，张量的维度(dimension)叫做轴(axis)。\n",
    "\n",
    "- 标量(`0D`张量)   \n",
    "仅包含一个数字的张量叫做标量(scalar)，也称之为标量张量、零维张量\n",
    "\n",
    "- 向量(`1D`张量)\n",
    "数字组成的数组叫作向量(vector)或者一维张量，如下，"
   ]
  },
  {
   "cell_type": "code",
   "execution_count": 2,
   "metadata": {
    "ExecuteTime": {
     "end_time": "2019-04-04T11:37:04.152585Z",
     "start_time": "2019-04-04T11:37:04.143332Z"
    }
   },
   "outputs": [
    {
     "name": "stdout",
     "output_type": "stream",
     "text": [
      "1D tensor: [1 3 5 7]\n",
      "1D axis:  1\n"
     ]
    }
   ],
   "source": [
    "import numpy as np\n",
    "\n",
    "x = np.array([1, 3, 5, 7])\n",
    "print(\"1D tensor:\", x)\n",
    "print(\"1D axis: \", x.ndim)"
   ]
  },
  {
   "cell_type": "markdown",
   "metadata": {},
   "source": [
    "- 矩阵(`2D`张量)\n",
    "向量组成的数组叫做矩阵(matrix)或者二维张量，如下，"
   ]
  },
  {
   "cell_type": "code",
   "execution_count": 6,
   "metadata": {
    "ExecuteTime": {
     "end_time": "2019-04-04T11:41:16.667646Z",
     "start_time": "2019-04-04T11:41:16.659098Z"
    }
   },
   "outputs": [
    {
     "name": "stdout",
     "output_type": "stream",
     "text": [
      "2D tensor: \n",
      " [[2 7 4]\n",
      " [1 7 2]]\n",
      "2D axis:  2\n"
     ]
    }
   ],
   "source": [
    "import numpy as np\n",
    "\n",
    "x = np.random.randint(10, size=(2, 3))\n",
    "print(\"2D tensor: \\n\", x)\n",
    "print(\"2D axis: \", x.ndim)"
   ]
  },
  {
   "cell_type": "markdown",
   "metadata": {
    "ExecuteTime": {
     "end_time": "2019-04-04T11:48:39.756484Z",
     "start_time": "2019-04-04T11:48:39.746052Z"
    }
   },
   "source": [
    "- `3D`张量\n",
    "将多个矩阵组成一个数组便可以得到一个3D张量，如下，"
   ]
  },
  {
   "cell_type": "code",
   "execution_count": 7,
   "metadata": {
    "ExecuteTime": {
     "end_time": "2019-04-04T11:43:13.677897Z",
     "start_time": "2019-04-04T11:43:13.663044Z"
    }
   },
   "outputs": [
    {
     "name": "stdout",
     "output_type": "stream",
     "text": [
      "3D tensor: \n",
      " [[[7 7 6 9 4]\n",
      "  [0 7 4 8 7]\n",
      "  [9 9 1 1 9]]\n",
      "\n",
      " [[4 2 1 5 7]\n",
      "  [0 0 8 3 4]\n",
      "  [1 2 5 9 4]]]\n",
      "3D axis:  3\n"
     ]
    }
   ],
   "source": [
    "import numpy as np\n",
    "\n",
    "x = np.random.randint(10, size=(2, 3, 5))\n",
    "print(\"3D tensor: \\n\", x)\n",
    "print(\"3D axis: \", x.ndim)"
   ]
  },
  {
   "cell_type": "markdown",
   "metadata": {},
   "source": [
    "可以依次类推到更高维度的张量，现实中的数据张量，\n",
    "\n",
    "- 结构化数据   \n",
    "2D张量，形状(samples, features)\n",
    "\n",
    "- 序列数据   \n",
    "3D张量，形状(samples, timesteps, features)\n",
    "\n",
    "- 图像数据   \n",
    "4D张量，形状(samples, channels, height, width)\n",
    "\n",
    "- 视频数据   \n",
    "5D张量，形状(samples, frames, channels, height, width)\n",
    "\n",
    "张量的属性，\n",
    "\n",
    "- 轴的个数(阶)   \n",
    "nD张量有n个轴\n",
    "\n",
    "- 形状   \n",
    "nD张量的形状为长度为n向量，比如3D张量的形状可以为(1, 2, 4), (2, 5, 7)等等\n",
    "\n",
    "- 数据类型   \n",
    "绝大多数情况下张量的类型为数值类型，很少为字符串类型，因为张量存储在预先分配的连续内存中，但是字符串长度是可变的，无法用这种方式存储。"
   ]
  },
  {
   "cell_type": "markdown",
   "metadata": {},
   "source": [
    "### 张量计算\n",
    "\n",
    "#### 逐元素运算\n",
    "\n",
    "逐元素计算(element-wise)，独立的对张量中的每一个元素进行计算，完全可以实现并行\n",
    "\n",
    "#### 广播\n",
    "如果两个不同形状的张量进行相加，较小的张量会被广播(broadcast)，来匹配较大张量的形状，通常广播包含两个小步骤，\n",
    "1）向较小的张量添加轴（广播轴），使其ndim和大的张量相同\n",
    "2）将较小的张量沿着新的轴重复"
   ]
  },
  {
   "cell_type": "code",
   "execution_count": 15,
   "metadata": {
    "ExecuteTime": {
     "end_time": "2019-04-04T12:24:10.319689Z",
     "start_time": "2019-04-04T12:24:10.295262Z"
    }
   },
   "outputs": [
    {
     "name": "stdout",
     "output_type": "stream",
     "text": [
      "tensor operation broadcast:\n",
      "x1:\n",
      " [[[1 0 8 9 6 1]\n",
      "  [5 7 5 4 2 7]\n",
      "  [8 5 1 8 4 8]\n",
      "  [8 7 8 7 8 1]]\n",
      "\n",
      " [[2 3 7 9 3 0]\n",
      "  [2 9 9 5 5 9]\n",
      "  [0 9 0 1 7 5]\n",
      "  [0 5 5 6 5 0]]]\n",
      "x2:\n",
      " [[9 4 5 7 9 0]\n",
      " [0 5 7 0 8 8]\n",
      " [6 8 1 1 5 5]\n",
      " [9 9 6 1 7 1]]\n",
      "x1 + x2 = \n",
      "\n",
      "[[[10  4 13 16 15  1]\n",
      "  [ 5 12 12  4 10 15]\n",
      "  [14 13  2  9  9 13]\n",
      "  [17 16 14  8 15  2]]\n",
      "\n",
      " [[11  7 12 16 12  0]\n",
      "  [ 2 14 16  5 13 17]\n",
      "  [ 6 17  1  2 12 10]\n",
      "  [ 9 14 11  7 12  1]]]\n",
      "x1 shape (2, 4, 6) x1 ndim 3\n",
      "x2 shape (4, 6) x2 ndim 2\n",
      "x shape (2, 4, 6) x ndim 3\n"
     ]
    }
   ],
   "source": [
    "import numpy as np \n",
    "\n",
    "x1 = np.random.randint(10, size=(2, 4, 6))\n",
    "x2 = np.random.randint(10, size=(4, 6))\n",
    "x = x1+x2\n",
    "\n",
    "print(\"tensor operation broadcast:\")\n",
    "print(\"x1:\\n\", x1)\n",
    "print(\"x2:\\n\", x2)\n",
    "\n",
    "print(\"x1 + x2 = \\n\")\n",
    "print(x)\n",
    "\n",
    "print(\"x1 shape {} x1 ndim {}\".format(x1.shape, x1.ndim))\n",
    "print(\"x2 shape {} x2 ndim {}\".format(x2.shape, x2.ndim))\n",
    "print(\"x shape {} x ndim {}\".format(x.shape, x.ndim))\n"
   ]
  },
  {
   "cell_type": "markdown",
   "metadata": {},
   "source": [
    "#### 张量点积\n",
    "一般在Numpy、Keras、Theano和Tensorflow中，使用`*`实现逐元素乘积，在Numpy和Keras中，使用`dot`来实现点积"
   ]
  },
  {
   "cell_type": "code",
   "execution_count": 22,
   "metadata": {
    "ExecuteTime": {
     "end_time": "2019-04-04T12:28:38.322002Z",
     "start_time": "2019-04-04T12:28:38.294003Z"
    }
   },
   "outputs": [
    {
     "name": "stdout",
     "output_type": "stream",
     "text": [
      "tensor operation product:\n",
      "x1:\n",
      " [[[9 2 8 6 4 0]\n",
      "  [6 9 5 1 0 7]\n",
      "  [0 1 9 4 0 4]\n",
      "  [5 2 2 5 2 3]]\n",
      "\n",
      " [[5 5 7 2 2 0]\n",
      "  [8 6 4 1 5 1]\n",
      "  [9 8 9 4 7 5]\n",
      "  [3 7 7 3 9 9]]]\n",
      "x2:\n",
      " [[9 6]\n",
      " [3 6]\n",
      " [3 4]\n",
      " [3 5]\n",
      " [6 6]\n",
      " [5 0]]\n",
      "x1 + x2 = \n",
      "\n",
      "[[[153 152]\n",
      "  [134 115]\n",
      "  [ 62  62]\n",
      "  [ 99  87]]\n",
      "\n",
      " [[ 99 110]\n",
      "  [140 135]\n",
      "  [211 200]\n",
      "  [177 157]]]\n",
      "x1 shape (2, 4, 6) x1 ndim 3\n",
      "x2 shape (6, 2) x2 ndim 2\n",
      "x shape (2, 4, 2) x ndim 3\n"
     ]
    }
   ],
   "source": [
    "import numpy as np \n",
    "\n",
    "x1 = np.random.randint(10, size=(2, 4, 6))\n",
    "x2 = np.random.randint(10, size=(6, 2))\n",
    "\n",
    "x = np.dot(x1, x2)\n",
    "\n",
    "print(\"tensor operation product:\")\n",
    "print(\"x1:\\n\", x1)\n",
    "print(\"x2:\\n\", x2)\n",
    "\n",
    "print(\"x1 + x2 = \\n\")\n",
    "print(x)\n",
    "\n",
    "print(\"x1 shape {} x1 ndim {}\".format(x1.shape, x1.ndim))\n",
    "print(\"x2 shape {} x2 ndim {}\".format(x2.shape, x2.ndim))\n",
    "print(\"x shape {} x ndim {}\".format(x.shape, x.ndim))\n"
   ]
  }
 ],
 "metadata": {
  "kernelspec": {
   "display_name": "Python 3",
   "language": "python",
   "name": "python3"
  },
  "language_info": {
   "codemirror_mode": {
    "name": "ipython",
    "version": 3
   },
   "file_extension": ".py",
   "mimetype": "text/x-python",
   "name": "python",
   "nbconvert_exporter": "python",
   "pygments_lexer": "ipython3",
   "version": "3.7.1"
  },
  "toc": {
   "base_numbering": 1,
   "nav_menu": {},
   "number_sections": false,
   "sideBar": true,
   "skip_h1_title": false,
   "title_cell": "Table of Contents",
   "title_sidebar": "Contents",
   "toc_cell": false,
   "toc_position": {},
   "toc_section_display": true,
   "toc_window_display": false
  },
  "varInspector": {
   "cols": {
    "lenName": 16,
    "lenType": 16,
    "lenVar": 40
   },
   "kernels_config": {
    "python": {
     "delete_cmd_postfix": "",
     "delete_cmd_prefix": "del ",
     "library": "var_list.py",
     "varRefreshCmd": "print(var_dic_list())"
    },
    "r": {
     "delete_cmd_postfix": ") ",
     "delete_cmd_prefix": "rm(",
     "library": "var_list.r",
     "varRefreshCmd": "cat(var_dic_list()) "
    }
   },
   "types_to_exclude": [
    "module",
    "function",
    "builtin_function_or_method",
    "instance",
    "_Feature"
   ],
   "window_display": false
  }
 },
 "nbformat": 4,
 "nbformat_minor": 2
}
